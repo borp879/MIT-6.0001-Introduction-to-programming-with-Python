{
 "cells": [
  {
   "cell_type": "code",
   "execution_count": 7,
   "id": "8703a718",
   "metadata": {},
   "outputs": [
    {
     "name": "stdout",
     "output_type": "stream",
     "text": [
      "enter x: 2\n",
      "enter y: 2\n",
      "x power of y: 4.0\n",
      "log base 2 of x: 1.0\n"
     ]
    }
   ],
   "source": [
    "import numpy as np\n",
    "z = input('enter x: ')\n",
    "c = input('enter y: ')\n",
    "x = float(z)\n",
    "y = float(c)\n",
    "print(f'x power of y: {x**y}')\n",
    "print(f'log base 2 of x: {np.log2(x)}')"
   ]
  },
  {
   "cell_type": "code",
   "execution_count": 10,
   "id": "d4616616",
   "metadata": {},
   "outputs": [
    {
     "name": "stdout",
     "output_type": "stream",
     "text": [
      "How many times should I print the letter X? 4\n",
      "xd\n",
      "xd\n",
      "xd\n",
      "xd\n"
     ]
    }
   ],
   "source": [
    "num_x = int(input('How many times should I print the letter X? '))\n",
    "to_print = 'xd'\n",
    "z = 0\n",
    "while z < num_x:\n",
    "    print(to_print)\n",
    "    z += 1"
   ]
  },
  {
   "cell_type": "code",
   "execution_count": 21,
   "id": "8bbed967",
   "metadata": {},
   "outputs": [
    {
     "name": "stdout",
     "output_type": "stream",
     "text": [
      "Enter an integer number 1: 5\n",
      "Enter an integer number 2: 12\n",
      "Enter an integer number 3: 51251\n",
      "Enter an integer number 4: 2215\n",
      "Enter an integer number 5: 125\n",
      "Enter an integer number 6: 215215231\n",
      "Enter an integer number 7: 12\n",
      "Enter an integer number 8: 312\n",
      "Enter an integer number 9: 12\n",
      "Enter an integer number 10: 123\n",
      "Highest odd number was: 215215231\n"
     ]
    }
   ],
   "source": [
    "z = 0\n",
    "v = 0\n",
    "while z < 10:\n",
    "    z += 1\n",
    "    c = input(f'Enter an integer number {z}: ')\n",
    "    c = int(c)\n",
    "    if c%2 != 0 and v < c:\n",
    "        v = c\n",
    "if v > 0:\n",
    "    print('Highest odd number was:', v)\n",
    "else:\n",
    "    print('No odd number was entered')"
   ]
  },
  {
   "cell_type": "code",
   "execution_count": 22,
   "id": "79e7a6f2",
   "metadata": {},
   "outputs": [
    {
     "name": "stdout",
     "output_type": "stream",
     "text": [
      "76127\n"
     ]
    }
   ],
   "source": [
    "def is_prime(n):\n",
    "    \"\"\"Return True if n is a prime number, else False.\"\"\"\n",
    "    if n <= 1:\n",
    "        return False\n",
    "    elif n <= 3:\n",
    "        return True\n",
    "    elif n % 2 == 0 or n % 3 == 0:\n",
    "        return False\n",
    "    i = 5\n",
    "    while i * i <= n:\n",
    "        if n % i == 0 or n % (i + 2) == 0:\n",
    "            return False\n",
    "        i += 6\n",
    "    return True\n",
    "\n",
    "sum_primes = 2  # start with the first prime number, 2\n",
    "for i in range(3, 1000, 2):  # iterate over odd integers between 3 and 999\n",
    "    if is_prime(i):\n",
    "        sum_primes += i\n",
    "\n",
    "print(sum_primes)  # print the sum of prime numbers"
   ]
  },
  {
   "cell_type": "code",
   "execution_count": 29,
   "id": "393ddc56",
   "metadata": {},
   "outputs": [
    {
     "name": "stdout",
     "output_type": "stream",
     "text": [
      "low = 0 high = 102 ans = 51.0\n",
      "low = 0 high = 51.0 ans = 25.5\n",
      "low = 0 high = 25.5 ans = 12.75\n",
      "low = 0 high = 12.75 ans = 6.375\n",
      "low = 6.375 high = 12.75 ans = 9.5625\n",
      "low = 9.5625 high = 12.75 ans = 11.15625\n",
      "low = 9.5625 high = 11.15625 ans = 10.359375\n",
      "number of guesses = 7\n",
      "9.9609375 is close to square root of x 102\n"
     ]
    }
   ],
   "source": [
    "x = 102\n",
    "epsilon = 1\n",
    "num_guesses, low = 0, 0\n",
    "high = max(1, x)\n",
    "ans = (high + low)/2\n",
    "while abs(ans**2 - x) >= epsilon:\n",
    "    print('low =', low, 'high =', high, 'ans =', ans)\n",
    "    num_guesses += 1\n",
    "    if ans**2 < x:\n",
    "        low = ans\n",
    "    else:\n",
    "        high = ans\n",
    "    ans = (high + low)/2\n",
    "print('number of guesses =', num_guesses)\n",
    "print(ans, 'is close to square root of x', x)"
   ]
  }
 ],
 "metadata": {
  "kernelspec": {
   "display_name": "Python 3 (ipykernel)",
   "language": "python",
   "name": "python3"
  },
  "language_info": {
   "codemirror_mode": {
    "name": "ipython",
    "version": 3
   },
   "file_extension": ".py",
   "mimetype": "text/x-python",
   "name": "python",
   "nbconvert_exporter": "python",
   "pygments_lexer": "ipython3",
   "version": "3.10.9"
  }
 },
 "nbformat": 4,
 "nbformat_minor": 5
}
