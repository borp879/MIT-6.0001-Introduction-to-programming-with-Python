{
 "cells": [
  {
   "cell_type": "code",
   "execution_count": 7,
   "id": "0de7132d",
   "metadata": {},
   "outputs": [
    {
     "name": "stdout",
     "output_type": "stream",
     "text": [
      "enter x: 2\n",
      "enter y: 2\n",
      "x power of y: 4.0\n",
      "log base 2 of x: 1.0\n"
     ]
    }
   ],
   "source": [
    "import numpy as np\n",
    "z = input('enter x: ')\n",
    "c = input('enter y: ')\n",
    "x = float(z)\n",
    "y = float(c)\n",
    "print(f'x power of y: {x**y}')\n",
    "print(f'log base 2 of x: {np.log2(x)}')"
   ]
  },
  {
   "cell_type": "code",
   "execution_count": null,
   "id": "2cb2d1c1",
   "metadata": {},
   "outputs": [],
   "source": []
  }
 ],
 "metadata": {
  "kernelspec": {
   "display_name": "Python 3 (ipykernel)",
   "language": "python",
   "name": "python3"
  },
  "language_info": {
   "codemirror_mode": {
    "name": "ipython",
    "version": 3
   },
   "file_extension": ".py",
   "mimetype": "text/x-python",
   "name": "python",
   "nbconvert_exporter": "python",
   "pygments_lexer": "ipython3",
   "version": "3.10.9"
  }
 },
 "nbformat": 4,
 "nbformat_minor": 5
}
