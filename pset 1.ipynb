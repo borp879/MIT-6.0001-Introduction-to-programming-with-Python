{
 "cells": [
  {
   "cell_type": "markdown",
   "id": "27e2d577",
   "metadata": {},
   "source": [
    "## 1A"
   ]
  },
  {
   "cell_type": "code",
   "execution_count": 9,
   "id": "2010a121",
   "metadata": {},
   "outputs": [
    {
     "name": "stdout",
     "output_type": "stream",
     "text": [
      "Your annual salary is: 80000\n",
      "Your portion of the salary to be saved as a decimal : .15\n",
      "Your house total cost is: 500000\n",
      "105\n"
     ]
    }
   ],
   "source": [
    "annual_salary = float(input('Your annual salary is: '))\n",
    "portion_saved = float(input('Your portion of the salary to be saved as a decimal : '))\n",
    "total_cost = float(input('Your house total cost is: '))\n",
    "portion_down_payment = 0.25\n",
    "current_savings = 0\n",
    "x = portion_saved*(annual_salary/12)\n",
    "cost_of_downpayment = total_cost * portion_down_payment\n",
    "months = 0\n",
    "while current_savings <= cost_of_downpayment:\n",
    "    months += 1\n",
    "    current_savings += x + current_savings *0.04/12\n",
    "print(months)"
   ]
  },
  {
   "cell_type": "markdown",
   "id": "a60115fe",
   "metadata": {},
   "source": [
    "## 1B"
   ]
  },
  {
   "cell_type": "code",
   "execution_count": 35,
   "id": "54288680",
   "metadata": {},
   "outputs": [
    {
     "name": "stdout",
     "output_type": "stream",
     "text": [
      "Your annual salary is: 120000\n",
      "Your portion of the salary to be saved as a decimal : .05\n",
      "Your house total cost is: 500000\n",
      "Your semi annual raise is: .03\n",
      "142\n"
     ]
    }
   ],
   "source": [
    "annual_salary = float(input('Your annual salary is: '))\n",
    "portion_saved = float(input('Your portion of the salary to be saved as a decimal : '))\n",
    "total_cost = float(input('Your house total cost is: '))\n",
    "semi_annual_raise = float(input('Your semi annual raise is: '))\n",
    "portion_down_payment = 0.25\n",
    "current_savings = 0\n",
    "cost_of_downpayment = total_cost * portion_down_payment\n",
    "months = 0\n",
    "while current_savings <= cost_of_downpayment:\n",
    "    months += 1\n",
    "    if months > 5 and (months-1)%6 == 0:\n",
    "        annual_salary += annual_salary * semi_annual_raise\n",
    "    current_savings += portion_saved*(annual_salary/12) + current_savings *0.04/12\n",
    "print(months)"
   ]
  },
  {
   "cell_type": "markdown",
   "id": "d13cd017",
   "metadata": {},
   "source": [
    "## 1C"
   ]
  },
  {
   "cell_type": "code",
   "execution_count": 40,
   "id": "12d87fb7",
   "metadata": {},
   "outputs": [
    {
     "name": "stdout",
     "output_type": "stream",
     "text": [
      "5730.656698998213\n"
     ]
    }
   ],
   "source": [
    "semi_annual_raise = .07\n",
    "total_cost = 1000000\n",
    "portion_down_payment = 0.25\n",
    "current_savings = 0\n",
    "cost_of_downpayment = total_cost * portion_down_payment\n",
    "months = 36\n",
    "if months > 5 and (months-1)%6 == 0:\n",
    "    annual_salary += annual_salary * semi_annual_raise\n",
    "current_savings = portion_saved*(annual_salary/12) + current_savings *0.04/12\n",
    "print(current_savings)"
   ]
  },
  {
   "cell_type": "code",
   "execution_count": null,
   "id": "21cf4c21",
   "metadata": {},
   "outputs": [],
   "source": [
    "epsilon = 100\n",
    "num_guesses, low = 0, 0\n",
    "semi_annual_raise = .07\n",
    "total_cost = 1000000\n",
    "portion_down_payment = 0.25\n",
    "cost_of_downpayment = total_cost * portion_down_payment\n",
    "current_savings = 0\n",
    "#you want to find savings rate that works for 36 months\n",
    "months = 36\n",
    "max = (1, cost_of_downpayment)\n",
    "ans = (high + low)/2\n",
    "def savings_rate(months):\n",
    "    for i in range(months):\n",
    "        if months > 5 and (months-1)%6 == 0:\n",
    "        annual_salary += annual_salary * semi_annual_raise\n",
    "        current_savings = savings_rate*(annual_salary/12) + current_savings *0.04/12\n",
    "months = 36\n",
    "while abs(ans**2 - savings_rate) >= epsilon:\n",
    "    num_guesses += 1\n",
    "    if ans**2 < savings_rate:\n",
    "        low = ans\n",
    "    else:\n",
    "        high = ans\n",
    "    ans = (high + low)/2\n",
    "print('number of guesses =', num_guesses)\n",
    "print(ans, 'is savings rate', savings_rate)\n",
    "    "
   ]
  },
  {
   "cell_type": "markdown",
   "id": "15b0b709",
   "metadata": {},
   "source": [
    "## Fingers"
   ]
  },
  {
   "cell_type": "code",
   "execution_count": null,
   "id": "0b0fe7a5",
   "metadata": {},
   "outputs": [],
   "source": [
    "# largest divisor\n",
    "x = int(input('Enter an integer greater than 2: '))\n",
    "biggest_divisor = None\n",
    "for guess in range(2, x):\n",
    "    if x%guess == 0:\n",
    "        biggest_divisor = x/guess\n",
    "        break\n",
    "if biggest_divisor != None:\n",
    "    print('Biggest divisor of', x, 'is', biggest_divisor)\n",
    "else:\n",
    "    print(x, 'is a prime number')"
   ]
  },
  {
   "cell_type": "code",
   "execution_count": 45,
   "id": "2e23eed2",
   "metadata": {},
   "outputs": [
    {
     "name": "stdout",
     "output_type": "stream",
     "text": [
      "Enter an integer : 59\n",
      "root = 0, pwr = 2\n",
      "root = 0, pwr = 3\n",
      "root = 0, pwr = 4\n",
      "root = 0, pwr = 5\n"
     ]
    }
   ],
   "source": [
    "x = int(input('Enter an integer : '))\n",
    "root = 0\n",
    "num = 0\n",
    "found = False\n",
    "for pwr in range(2, 6):\n",
    "    root = round(num ** (1/pwr))\n",
    "    if root ** pwr == num:\n",
    "        print(f\"root = {root}, pwr = {pwr}\")\n",
    "        found = True\n",
    "\n",
    "if not found:\n",
    "    print(\"No such pair of integers exists.\")"
   ]
  },
  {
   "cell_type": "code",
   "execution_count": 42,
   "id": "1c87d41e",
   "metadata": {},
   "outputs": [
    {
     "data": {
      "text/plain": [
       "2.0"
      ]
     },
     "execution_count": 42,
     "metadata": {},
     "output_type": "execute_result"
    }
   ],
   "source": [
    "16**(1/4)"
   ]
  },
  {
   "cell_type": "code",
   "execution_count": 13,
   "id": "ec5d974e",
   "metadata": {},
   "outputs": [
    {
     "name": "stdout",
     "output_type": "stream",
     "text": [
      "76125\n"
     ]
    }
   ],
   "source": [
    "sum = 0\n",
    "for i in range(3, 1000):\n",
    "    is_prime = True\n",
    "    for j in range(2, int(i**0.5)+1):\n",
    "        if i % j == 0:\n",
    "            is_prime = False\n",
    "            break\n",
    "    if is_prime:\n",
    "        sum += i\n",
    "print(sum)"
   ]
  },
  {
   "cell_type": "code",
   "execution_count": 6,
   "id": "39bfbfd6",
   "metadata": {},
   "outputs": [
    {
     "name": "stdout",
     "output_type": "stream",
     "text": [
      "Square root of 24 is about 4.8989887432139305\n",
      "4\n"
     ]
    }
   ],
   "source": [
    "#Newton-Raphson for square root\n",
    "epsilon = 0.01\n",
    "k = 24\n",
    "guess = k/2\n",
    "z = 0\n",
    "while abs(guess**2 - k) >= epsilon:\n",
    "    z += 1\n",
    "    guess = guess - (((guess**2)- k)/(2*guess))\n",
    "print('Square root of', k, 'is about', guess)\n",
    "print(z)"
   ]
  },
  {
   "cell_type": "code",
   "execution_count": 10,
   "id": "1e4aa446",
   "metadata": {},
   "outputs": [
    {
     "ename": "UnboundLocalError",
     "evalue": "local variable 'annual_salary' referenced before assignment",
     "output_type": "error",
     "traceback": [
      "\u001b[1;31m---------------------------------------------------------------------------\u001b[0m",
      "\u001b[1;31mUnboundLocalError\u001b[0m                         Traceback (most recent call last)",
      "Cell \u001b[1;32mIn[10], line 12\u001b[0m\n\u001b[0;32m     10\u001b[0m             annual_salary \u001b[38;5;241m+\u001b[39m\u001b[38;5;241m=\u001b[39m annual_salary \u001b[38;5;241m*\u001b[39m semi_annual_raise\n\u001b[0;32m     11\u001b[0m         current_savings \u001b[38;5;241m=\u001b[39m savings_rate\u001b[38;5;241m*\u001b[39m(annual_salary\u001b[38;5;241m/\u001b[39m\u001b[38;5;241m12\u001b[39m) \u001b[38;5;241m+\u001b[39m current_savings \u001b[38;5;241m*\u001b[39m\u001b[38;5;241m0.04\u001b[39m\u001b[38;5;241m/\u001b[39m\u001b[38;5;241m12\u001b[39m\n\u001b[1;32m---> 12\u001b[0m \u001b[38;5;28mprint\u001b[39m(\u001b[43msavings_rate\u001b[49m\u001b[43m(\u001b[49m\u001b[38;5;241;43m36\u001b[39;49m\u001b[43m)\u001b[49m)\n",
      "Cell \u001b[1;32mIn[10], line 11\u001b[0m, in \u001b[0;36msavings_rate\u001b[1;34m(months)\u001b[0m\n\u001b[0;32m      9\u001b[0m \u001b[38;5;28;01mif\u001b[39;00m months \u001b[38;5;241m>\u001b[39m \u001b[38;5;241m5\u001b[39m \u001b[38;5;129;01mand\u001b[39;00m (months\u001b[38;5;241m-\u001b[39m\u001b[38;5;241m1\u001b[39m)\u001b[38;5;241m%\u001b[39m\u001b[38;5;241m6\u001b[39m \u001b[38;5;241m==\u001b[39m \u001b[38;5;241m0\u001b[39m:\n\u001b[0;32m     10\u001b[0m     annual_salary \u001b[38;5;241m+\u001b[39m\u001b[38;5;241m=\u001b[39m annual_salary \u001b[38;5;241m*\u001b[39m semi_annual_raise\n\u001b[1;32m---> 11\u001b[0m current_savings \u001b[38;5;241m=\u001b[39m savings_rate\u001b[38;5;241m*\u001b[39m(\u001b[43mannual_salary\u001b[49m\u001b[38;5;241m/\u001b[39m\u001b[38;5;241m12\u001b[39m) \u001b[38;5;241m+\u001b[39m current_savings \u001b[38;5;241m*\u001b[39m\u001b[38;5;241m0.04\u001b[39m\u001b[38;5;241m/\u001b[39m\u001b[38;5;241m12\u001b[39m\n",
      "\u001b[1;31mUnboundLocalError\u001b[0m: local variable 'annual_salary' referenced before assignment"
     ]
    }
   ],
   "source": [
    "semi_annual_raise = .07\n",
    "total_cost = 1000000\n",
    "portion_down_payment = 0.25\n",
    "cost_of_downpayment = total_cost * portion_down_payment\n",
    "current_savings = 0\n",
    "annual_salary = 150000\n",
    "def savings_rate(months):\n",
    "    for i in range(months):\n",
    "        if months > 5 and (months-1)%6 == 0:\n",
    "            annual_salary += annual_salary * semi_annual_raise\n",
    "        current_savings = savings_rate*(annual_salary/12) + current_savings *0.04/12\n",
    "print(savings_rate(36))"
   ]
  },
  {
   "cell_type": "markdown",
   "id": "82cb905a",
   "metadata": {},
   "source": [
    "## 1 C Więcej prób"
   ]
  },
  {
   "cell_type": "code",
   "execution_count": 13,
   "id": "c1b2fc00",
   "metadata": {},
   "outputs": [
    {
     "name": "stdout",
     "output_type": "stream",
     "text": [
      "input salary: 150000\n",
      "num_guesses = 0\n",
      "0.0 is best for salary 150000\n"
     ]
    }
   ],
   "source": [
    "annual_salary = input('input salary: ')\n",
    "current_savings = 0\n",
    "total_cost = 1000000\n",
    "portion_down_payment = 0.25\n",
    "cost_of_downpayment = total_cost * portion_down_payment\n",
    "months = 36\n",
    "epsilon = 100\n",
    "num_guesses, low = 0, 0\n",
    "high = current_savings\n",
    "savings_rate = (high+low)/2\n",
    "while abs(savings_rate - current_savings) >= epsilon:\n",
    "    num_guesses += 1\n",
    "    for z in range(months):\n",
    "        if months > 5 and (months-1)%6 == 0:\n",
    "            annual_salary += annual_salary * semi_annual_raise\n",
    "        current_savings = savings_rate*(annual_salary/12) + current_savings *0.04/12\n",
    "    if savings_rate < current_savings:\n",
    "        low = savings_rate\n",
    "    else:\n",
    "        high = savings_rate\n",
    "    savings_rate = (high+low)/2\n",
    "print('num_guesses =', num_guesses)\n",
    "print(savings_rate, 'is best for salary', annual_salary)"
   ]
  }
 ],
 "metadata": {
  "kernelspec": {
   "display_name": "Python 3 (ipykernel)",
   "language": "python",
   "name": "python3"
  },
  "language_info": {
   "codemirror_mode": {
    "name": "ipython",
    "version": 3
   },
   "file_extension": ".py",
   "mimetype": "text/x-python",
   "name": "python",
   "nbconvert_exporter": "python",
   "pygments_lexer": "ipython3",
   "version": "3.10.9"
  }
 },
 "nbformat": 4,
 "nbformat_minor": 5
}
