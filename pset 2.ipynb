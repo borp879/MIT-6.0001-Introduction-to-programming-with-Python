{
 "cells": [
  {
   "cell_type": "markdown",
   "id": "16410b65",
   "metadata": {},
   "source": [
    "## Fingers"
   ]
  },
  {
   "cell_type": "code",
   "execution_count": 4,
   "id": "9316d2cd",
   "metadata": {},
   "outputs": [
    {
     "name": "stdout",
     "output_type": "stream",
     "text": [
      "4.999988555908203\n"
     ]
    }
   ],
   "source": [
    "def find_root(x, power, epsilon):\n",
    "    if x<0 and power%2 == 0:\n",
    "        return None\n",
    "    low = min(-1, x)\n",
    "    high = max(1, x)\n",
    "    ans = (high+low)/2\n",
    "    while abs(ans**power - x) >= epsilon:\n",
    "        if ans**power < x:\n",
    "            low = ans\n",
    "        else:\n",
    "            high = ans\n",
    "        ans = (high + low)/2\n",
    "    return ans\n",
    "print(find_root(25, 2, 0.001) + find_root(-8, 3, 0.001) + find_root(16, 4, 0.001))"
   ]
  },
  {
   "cell_type": "code",
   "execution_count": 9,
   "id": "f95ce285",
   "metadata": {},
   "outputs": [],
   "source": [
    "def is_in(x, y):\n",
    "    if x in y or y in x:\n",
    "        return True\n",
    "    else:\n",
    "        return False"
   ]
  },
  {
   "cell_type": "code",
   "execution_count": 16,
   "id": "549d8cbb",
   "metadata": {},
   "outputs": [
    {
     "name": "stdout",
     "output_type": "stream",
     "text": [
      "x = hello, y = lo: Okay\n",
      "x = hello, y = what's: Okay\n",
      "x = hello, y = im sleepy zz: Okay\n",
      "x = what's up, y = lo: Okay\n",
      "x = what's up, y = what's: Okay\n",
      "x = what's up, y = im sleepy zz: Okay\n",
      "x = zzzzzzzzz, y = lo: Okay\n",
      "x = zzzzzzzzz, y = what's: Okay\n",
      "x = zzzzzzzzz, y = im sleepy zz: Okay\n"
     ]
    }
   ],
   "source": [
    "def test_is_in(x_chars, y_chars):\n",
    "    for char_x in x_chars:\n",
    "        for char_y in y_chars:\n",
    "            result = is_in(char_x, char_y)\n",
    "            if result == None:\n",
    "                val = 'No character exists'\n",
    "            elif result == True or result == False:\n",
    "                val = 'Okay'\n",
    "            print(f'x = {char_x}, y = {char_y}: {val}')\n",
    "char_x = (\"hello\", \"what's up\", \"zzzzzzzzz\")\n",
    "char_y = (\"lo\", \"what's\", \"im sleepy zz\")\n",
    "test_is_in(char_x, char_y)"
   ]
  },
  {
   "cell_type": "code",
   "execution_count": 25,
   "id": "b7fb4067",
   "metadata": {},
   "outputs": [
    {
     "data": {
      "text/plain": [
       "40"
      ]
     },
     "execution_count": 25,
     "metadata": {},
     "output_type": "execute_result"
    }
   ],
   "source": [
    "def mult(x, y = None):\n",
    "    if y != None:\n",
    "        return x*y\n",
    "    else:\n",
    "        return x\n",
    "mult(4, 10)"
   ]
  },
  {
   "cell_type": "code",
   "execution_count": null,
   "id": "4e94e868",
   "metadata": {},
   "outputs": [],
   "source": [
    "def log(x, base, epsilon):\n",
    "    if x > 1 and epsilon > 0 and base >= 1:\n",
    "        if (base**y - epsilon) > x:\n",
    "            return y"
   ]
  },
  {
   "cell_type": "code",
   "execution_count": 28,
   "id": "89e1ab90",
   "metadata": {},
   "outputs": [
    {
     "ename": "SyntaxError",
     "evalue": "invalid syntax (1308460105.py, line 1)",
     "output_type": "error",
     "traceback": [
      "\u001b[1;36m  Cell \u001b[1;32mIn[28], line 1\u001b[1;36m\u001b[0m\n\u001b[1;33m    lambda x, y:\u001b[0m\n\u001b[1;37m                 ^\u001b[0m\n\u001b[1;31mSyntaxError\u001b[0m\u001b[1;31m:\u001b[0m invalid syntax\n"
     ]
    }
   ],
   "source": [
    "lambda x, y: \n",
    "if y==0:\n",
    "    return None \n",
    "else:\n",
    "    return x/y"
   ]
  },
  {
   "cell_type": "code",
   "execution_count": 29,
   "id": "a436aea7",
   "metadata": {},
   "outputs": [
    {
     "data": {
      "text/plain": [
       "-1"
      ]
     },
     "execution_count": 29,
     "metadata": {},
     "output_type": "execute_result"
    }
   ],
   "source": [
    "sub = 'dd'\n",
    "s = 'abcbc'\n",
    "s.find(sub)"
   ]
  },
  {
   "cell_type": "code",
   "execution_count": null,
   "id": "6da70e31",
   "metadata": {},
   "outputs": [],
   "source": [
    "def find_last(s, sub):\n",
    "    if len(s)>0 and len(sub)>0:\n",
    "        if sub.find(s) != 0:\n",
    "            return s.find(sub)\n",
    "        else: \n",
    "            return None"
   ]
  },
  {
   "cell_type": "code",
   "execution_count": null,
   "id": "bbf6df27",
   "metadata": {},
   "outputs": [],
   "source": [
    "#chat gpt\n",
    "def find_last(s, sub):\n",
    "    \"\"\"s and sub are non-empty strings\n",
    "    Returns the index of the last occurrence of sub in s.\n",
    "    Returns None if sub does not occur in s\"\"\"\n",
    "    index = s.find(sub)\n",
    "    last_index = None\n",
    "    while index != -1:\n",
    "        last_index = index\n",
    "        index = s.find(sub, index + 1)\n",
    "    return last_index"
   ]
  },
  {
   "cell_type": "code",
   "execution_count": 4,
   "id": "6bf15733",
   "metadata": {},
   "outputs": [
    {
     "name": "stdout",
     "output_type": "stream",
     "text": [
      "2 20\n"
     ]
    }
   ],
   "source": [
    "def find_extreme_divisors(n1, n2):\n",
    "    min_val, max_val = None, None\n",
    "    for i in range(2, min(n1, n2) + 1):\n",
    "        if n1%i == 0 and n2%i == 0:\n",
    "            if min_val == None:\n",
    "                min_val = i\n",
    "            max_val = i\n",
    "    return min_val, max_val\n",
    "min_divisor, max_divisor = find_extreme_divisors(20, 200)\n",
    "print(min_divisor, max_divisor)"
   ]
  },
  {
   "cell_type": "code",
   "execution_count": 14,
   "id": "169734ec",
   "metadata": {},
   "outputs": [
    {
     "name": "stdout",
     "output_type": "stream",
     "text": [
      "4.5\n"
     ]
    }
   ],
   "source": [
    "x = range(10)\n",
    "sumx = sum(x)/len(x)\n",
    "print(sumx)"
   ]
  },
  {
   "cell_type": "code",
   "execution_count": 15,
   "id": "4ecfd8dd",
   "metadata": {},
   "outputs": [
    {
     "name": "stdout",
     "output_type": "stream",
     "text": [
      "True\n"
     ]
    }
   ],
   "source": [
    "L = [1, 2, 3]\n",
    "L.append(L)\n",
    "print(L is L[-1])"
   ]
  },
  {
   "cell_type": "code",
   "execution_count": 17,
   "id": "42243ede",
   "metadata": {},
   "outputs": [
    {
     "name": "stdout",
     "output_type": "stream",
     "text": [
      "[(0, 0), (0, 3), (2, 0), (2, 3), (4, 0), (4, 3)]\n"
     ]
    }
   ],
   "source": [
    "L = [(x, y)\n",
    " for x in range(6) if x%2 == 0\n",
    " for y in range(6) if y%3 == 0]\n",
    "print(L)"
   ]
  },
  {
   "cell_type": "code",
   "execution_count": 24,
   "id": "bc16b455",
   "metadata": {
    "collapsed": true
   },
   "outputs": [
    {
     "data": {
      "text/plain": [
       "[2,\n",
       " 3,\n",
       " 4,\n",
       " 5,\n",
       " 7,\n",
       " 11,\n",
       " 13,\n",
       " 17,\n",
       " 19,\n",
       " 23,\n",
       " 29,\n",
       " 31,\n",
       " 37,\n",
       " 41,\n",
       " 43,\n",
       " 47,\n",
       " 53,\n",
       " 59,\n",
       " 61,\n",
       " 67,\n",
       " 71,\n",
       " 73,\n",
       " 79,\n",
       " 83,\n",
       " 89,\n",
       " 97]"
      ]
     },
     "execution_count": 24,
     "metadata": {},
     "output_type": "execute_result"
    }
   ],
   "source": [
    "def gen_primes():\n",
    "    primes = []\n",
    "    for x in range(2, 100):\n",
    "        is_prime = True\n",
    "        for y in range(3, x):\n",
    "            if x%y == 0:\n",
    "                is_prime = False\n",
    "        if is_prime:\n",
    "            primes.append(x)\n",
    "    return primes\n",
    "gen_primes()"
   ]
  },
  {
   "cell_type": "code",
   "execution_count": 30,
   "id": "782fe45a",
   "metadata": {
    "collapsed": true
   },
   "outputs": [
    {
     "data": {
      "text/plain": [
       "[4,\n",
       " 6,\n",
       " 8,\n",
       " 9,\n",
       " 10,\n",
       " 12,\n",
       " 14,\n",
       " 15,\n",
       " 16,\n",
       " 18,\n",
       " 20,\n",
       " 21,\n",
       " 22,\n",
       " 24,\n",
       " 25,\n",
       " 26,\n",
       " 27,\n",
       " 28,\n",
       " 30,\n",
       " 32,\n",
       " 33,\n",
       " 34,\n",
       " 35,\n",
       " 36,\n",
       " 38,\n",
       " 39,\n",
       " 40,\n",
       " 42,\n",
       " 44,\n",
       " 45,\n",
       " 46,\n",
       " 48,\n",
       " 49,\n",
       " 50,\n",
       " 51,\n",
       " 52,\n",
       " 54,\n",
       " 55,\n",
       " 56,\n",
       " 57,\n",
       " 58,\n",
       " 60,\n",
       " 62,\n",
       " 63,\n",
       " 64,\n",
       " 65,\n",
       " 66,\n",
       " 68,\n",
       " 69,\n",
       " 70,\n",
       " 72,\n",
       " 74,\n",
       " 75,\n",
       " 76,\n",
       " 77,\n",
       " 78,\n",
       " 80,\n",
       " 81,\n",
       " 82,\n",
       " 84,\n",
       " 85,\n",
       " 86,\n",
       " 87,\n",
       " 88,\n",
       " 90,\n",
       " 91,\n",
       " 92,\n",
       " 93,\n",
       " 94,\n",
       " 95,\n",
       " 96,\n",
       " 98,\n",
       " 99]"
      ]
     },
     "execution_count": 30,
     "metadata": {},
     "output_type": "execute_result"
    }
   ],
   "source": [
    "[x for x in range(2, 100) if not all(x%y !=0 for y in range(2, int(x**0.5)+1))]"
   ]
  },
  {
   "cell_type": "code",
   "execution_count": 58,
   "id": "0d34544c",
   "metadata": {},
   "outputs": [
    {
     "data": {
      "text/plain": [
       "9"
      ]
     },
     "execution_count": 58,
     "metadata": {},
     "output_type": "execute_result"
    }
   ],
   "source": [
    "def f(L1, L2):\n",
    "    result = 0\n",
    "    for x, y in zip(L1, L2):\n",
    "        result += (lambda a, b: a ** b)(x, y)\n",
    "    return result\n",
    "f([1, 2], [2, 3])"
   ]
  },
  {
   "cell_type": "code",
   "execution_count": 66,
   "id": "cf169c3f",
   "metadata": {},
   "outputs": [
    {
     "data": {
      "text/plain": [
       "11"
      ]
     },
     "execution_count": 66,
     "metadata": {},
     "output_type": "execute_result"
    }
   ],
   "source": [
    "def get_min(d):\n",
    "    mini = float('inf')\n",
    "    for key in d:\n",
    "        if d[key] < mini:\n",
    "            mini = d[key]\n",
    "    return mini\n",
    "\n",
    "get_min({'x': 11, 'b': 12})"
   ]
  },
  {
   "cell_type": "code",
   "execution_count": 2,
   "id": "9f5b7cb9",
   "metadata": {},
   "outputs": [
    {
     "name": "stdout",
     "output_type": "stream",
     "text": [
      "fib of 0 = 1\n",
      "fib of 1 = 1\n",
      "fib of 2 = 2\n",
      "fib of 3 = 3\n",
      "fib of 4 = 5\n",
      "fib of 5 = 8\n"
     ]
    }
   ],
   "source": [
    "def fib(n):\n",
    "    if n == 0 or n == 1:\n",
    "        return 1\n",
    "    else:\n",
    "        return fib(n-1) + fib(n-2)\n",
    "def test_fib(n):\n",
    "    for i in range(n+1):\n",
    "        print('fib of', i, '=', fib(i))\n",
    "test_fib(5)"
   ]
  },
  {
   "cell_type": "code",
   "execution_count": null,
   "id": "42b8009a",
   "metadata": {},
   "outputs": [],
   "source": []
  }
 ],
 "metadata": {
  "kernelspec": {
   "display_name": "Python 3 (ipykernel)",
   "language": "python",
   "name": "python3"
  },
  "language_info": {
   "codemirror_mode": {
    "name": "ipython",
    "version": 3
   },
   "file_extension": ".py",
   "mimetype": "text/x-python",
   "name": "python",
   "nbconvert_exporter": "python",
   "pygments_lexer": "ipython3",
   "version": "3.10.9"
  }
 },
 "nbformat": 4,
 "nbformat_minor": 5
}
